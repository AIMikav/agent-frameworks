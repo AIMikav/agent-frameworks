{
 "cells": [
  {
   "cell_type": "markdown",
   "id": "37e1400e",
   "metadata": {},
   "source": [
    "## Setup"
   ]
  },
  {
   "cell_type": "code",
   "execution_count": 5,
   "id": "2a4e358b",
   "metadata": {},
   "outputs": [
    {
     "name": "stdout",
     "output_type": "stream",
     "text": [
      "sk-proj-3039fvw\n"
     ]
    }
   ],
   "source": [
    "# .env API Sanity Check\n",
    "import os\n",
    "from dotenv import load_dotenv\n",
    "\n",
    "load_dotenv()\n",
    "API_KEY = os.getenv('OPENAI_API_KEY')\n",
    "print(API_KEY[:15])  # Prints first 15 chars to verify it loaded"
   ]
  },
  {
   "cell_type": "code",
   "execution_count": 6,
   "id": "1a8e92d7",
   "metadata": {},
   "outputs": [],
   "source": [
    "# Configuration for the agents\n",
    "config_list = [\n",
    "    {\n",
    "        \"model\": \"gpt-4o-mini\",\n",
    "        \"api_key\": API_KEY\n",
    "    }\n",
    "]"
   ]
  },
  {
   "cell_type": "markdown",
   "id": "97c7a00b",
   "metadata": {},
   "source": [
    "## Build a Group Chat"
   ]
  },
  {
   "cell_type": "code",
   "execution_count": 7,
   "id": "7666fdcd",
   "metadata": {},
   "outputs": [
    {
     "name": "stderr",
     "output_type": "stream",
     "text": [
      "/Users/handi7/autogen_insurance/lib/python3.13/site-packages/flaml/__init__.py:20: UserWarning: flaml.automl is not available. Please install flaml[automl] to enable AutoML functionalities.\n",
      "  warnings.warn(\"flaml.automl is not available. Please install flaml[automl] to enable AutoML functionalities.\")\n"
     ]
    }
   ],
   "source": [
    "import autogen\n",
    "import pandas as pd\n",
    "\n",
    "# Configuration for the agents\n",
    "config_list = [\n",
    "    {\n",
    "        \"model\": \"gpt-4o-mini\",\n",
    "        \"api_key\": API_KEY\n",
    "    }\n",
    "]\n",
    "\n",
    "# Create assistant agents\n",
    "insurance_analyst = autogen.AssistantAgent(\n",
    "    name=\"insurance_analyst\",\n",
    "    llm_config={\"config_list\": config_list},\n",
    "    system_message=\"You are an insurance analyst...\"\n",
    ")\n",
    "\n",
    "risk_assessor = autogen.AssistantAgent(\n",
    "    name=\"risk_assessor\",\n",
    "    llm_config={\"config_list\": config_list},\n",
    "    system_message=\"You are a risk assessment specialist...\"\n",
    ")\n",
    "\n",
    "documentation_agent = autogen.AssistantAgent(\n",
    "    name=\"documentation_agent\",\n",
    "    llm_config={\"config_list\": config_list},\n",
    "    system_message=\"You document insurance decisions...\"\n",
    ")\n",
    "\n",
    "# Create user proxy agent\n",
    "user_proxy = autogen.UserProxyAgent(\n",
    "    name=\"user_proxy\",\n",
    "    human_input_mode=\"NEVER\",\n",
    "    max_consecutive_auto_reply=10,\n",
    "    code_execution_config={\n",
    "        \"last_n_messages\": 3,\n",
    "        \"work_dir\": \"coding\",\n",
    "        \"use_docker\": False,\n",
    "    },\n",
    ")"
   ]
  },
  {
   "cell_type": "code",
   "execution_count": null,
   "id": "cbd2d557",
   "metadata": {},
   "outputs": [],
   "source": []
  }
 ],
 "metadata": {
  "kernelspec": {
   "display_name": "autogen_insurance",
   "language": "python",
   "name": "python3"
  },
  "language_info": {
   "codemirror_mode": {
    "name": "ipython",
    "version": 3
   },
   "file_extension": ".py",
   "mimetype": "text/x-python",
   "name": "python",
   "nbconvert_exporter": "python",
   "pygments_lexer": "ipython3",
   "version": "3.13.1"
  }
 },
 "nbformat": 4,
 "nbformat_minor": 5
}
